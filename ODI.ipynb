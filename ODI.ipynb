{
 "cells": [
  {
   "cell_type": "code",
   "execution_count": 1,
   "id": "7d55d25e",
   "metadata": {},
   "outputs": [],
   "source": [
    "#Name - Mahera Furniturewala\n",
    "#Reg No - 20BDS0023\n",
    "#Theory DA-I\n",
    "#Slot - C1 + TC1"
   ]
  },
  {
   "cell_type": "code",
   "execution_count": 3,
   "id": "17056b35",
   "metadata": {},
   "outputs": [
    {
     "data": {
      "text/html": [
       "<div>\n",
       "<style scoped>\n",
       "    .dataframe tbody tr th:only-of-type {\n",
       "        vertical-align: middle;\n",
       "    }\n",
       "\n",
       "    .dataframe tbody tr th {\n",
       "        vertical-align: top;\n",
       "    }\n",
       "\n",
       "    .dataframe thead th {\n",
       "        text-align: right;\n",
       "    }\n",
       "</style>\n",
       "<table border=\"1\" class=\"dataframe\">\n",
       "  <thead>\n",
       "    <tr style=\"text-align: right;\">\n",
       "      <th></th>\n",
       "      <th>Unnamed: 0</th>\n",
       "      <th>Unnamed: 0.1</th>\n",
       "      <th>Scorecard</th>\n",
       "      <th>Team 1</th>\n",
       "      <th>Team 2</th>\n",
       "      <th>Winner</th>\n",
       "      <th>Margin</th>\n",
       "      <th>Ground</th>\n",
       "      <th>Match Date</th>\n",
       "      <th>HostCountry</th>\n",
       "    </tr>\n",
       "  </thead>\n",
       "  <tbody>\n",
       "    <tr>\n",
       "      <th>0</th>\n",
       "      <td>0</td>\n",
       "      <td>0</td>\n",
       "      <td>ODI # 1</td>\n",
       "      <td>Australia</td>\n",
       "      <td>England</td>\n",
       "      <td>Australia</td>\n",
       "      <td>5 wickets</td>\n",
       "      <td>Melbourne</td>\n",
       "      <td>Jan 5, 1971</td>\n",
       "      <td>Australia</td>\n",
       "    </tr>\n",
       "    <tr>\n",
       "      <th>1</th>\n",
       "      <td>1</td>\n",
       "      <td>1</td>\n",
       "      <td>ODI # 2</td>\n",
       "      <td>England</td>\n",
       "      <td>Australia</td>\n",
       "      <td>England</td>\n",
       "      <td>6 wickets</td>\n",
       "      <td>Manchester</td>\n",
       "      <td>Aug 24, 1972</td>\n",
       "      <td>United Kingdom</td>\n",
       "    </tr>\n",
       "    <tr>\n",
       "      <th>2</th>\n",
       "      <td>2</td>\n",
       "      <td>2</td>\n",
       "      <td>ODI # 3</td>\n",
       "      <td>England</td>\n",
       "      <td>Australia</td>\n",
       "      <td>Australia</td>\n",
       "      <td>5 wickets</td>\n",
       "      <td>Lord's</td>\n",
       "      <td>Aug 26, 1972</td>\n",
       "      <td>India</td>\n",
       "    </tr>\n",
       "    <tr>\n",
       "      <th>3</th>\n",
       "      <td>3</td>\n",
       "      <td>3</td>\n",
       "      <td>ODI # 4</td>\n",
       "      <td>England</td>\n",
       "      <td>Australia</td>\n",
       "      <td>England</td>\n",
       "      <td>2 wickets</td>\n",
       "      <td>Birmingham</td>\n",
       "      <td>Aug 28, 1972</td>\n",
       "      <td>United Kingdom</td>\n",
       "    </tr>\n",
       "    <tr>\n",
       "      <th>4</th>\n",
       "      <td>4</td>\n",
       "      <td>4</td>\n",
       "      <td>ODI # 5</td>\n",
       "      <td>New Zealand</td>\n",
       "      <td>Pakistan</td>\n",
       "      <td>New Zealand</td>\n",
       "      <td>22 runs</td>\n",
       "      <td>Christchurch</td>\n",
       "      <td>Feb 11, 1973</td>\n",
       "      <td>New Zealand</td>\n",
       "    </tr>\n",
       "  </tbody>\n",
       "</table>\n",
       "</div>"
      ],
      "text/plain": [
       "   Unnamed: 0  Unnamed: 0.1 Scorecard       Team 1     Team 2       Winner  \\\n",
       "0           0             0   ODI # 1    Australia    England    Australia   \n",
       "1           1             1   ODI # 2      England  Australia      England   \n",
       "2           2             2   ODI # 3      England  Australia    Australia   \n",
       "3           3             3   ODI # 4      England  Australia      England   \n",
       "4           4             4   ODI # 5  New Zealand   Pakistan  New Zealand   \n",
       "\n",
       "      Margin        Ground    Match Date     HostCountry  \n",
       "0  5 wickets     Melbourne   Jan 5, 1971       Australia  \n",
       "1  6 wickets    Manchester  Aug 24, 1972  United Kingdom  \n",
       "2  5 wickets        Lord's  Aug 26, 1972           India  \n",
       "3  2 wickets    Birmingham  Aug 28, 1972  United Kingdom  \n",
       "4    22 runs  Christchurch  Feb 11, 1973     New Zealand  "
      ]
     },
     "execution_count": 3,
     "metadata": {},
     "output_type": "execute_result"
    }
   ],
   "source": [
    "#importing the dataset\n",
    "import pandas as pd\n",
    "\n",
    "df = pd.read_csv(\"ODI.csv\", low_memory=False)\n",
    "df.head()"
   ]
  },
  {
   "cell_type": "code",
   "execution_count": 4,
   "id": "c57a0be4",
   "metadata": {},
   "outputs": [
    {
     "data": {
      "text/plain": [
       "Index(['Unnamed: 0', 'Unnamed: 0.1', 'Scorecard', 'Team 1', 'Team 2', 'Winner',\n",
       "       'Margin', 'Ground', 'Match Date', 'HostCountry'],\n",
       "      dtype='object')"
      ]
     },
     "execution_count": 4,
     "metadata": {},
     "output_type": "execute_result"
    }
   ],
   "source": [
    "df.columns"
   ]
  },
  {
   "cell_type": "code",
   "execution_count": 5,
   "id": "22b3dde9",
   "metadata": {},
   "outputs": [
    {
     "data": {
      "text/plain": [
       "Unnamed: 0        0\n",
       "Unnamed: 0.1      0\n",
       "Scorecard         0\n",
       "Team 1            0\n",
       "Team 2            0\n",
       "Winner            0\n",
       "Margin          186\n",
       "Ground            0\n",
       "Match Date        0\n",
       "HostCountry       0\n",
       "dtype: int64"
      ]
     },
     "execution_count": 5,
     "metadata": {},
     "output_type": "execute_result"
    }
   ],
   "source": [
    "#removing the null values:\n",
    "df.isnull().sum()"
   ]
  },
  {
   "cell_type": "code",
   "execution_count": 6,
   "id": "3c55ef33",
   "metadata": {},
   "outputs": [],
   "source": [
    "df = df[~df.Margin.isnull()]"
   ]
  },
  {
   "cell_type": "code",
   "execution_count": 7,
   "id": "c5ec061d",
   "metadata": {},
   "outputs": [
    {
     "data": {
      "text/plain": [
       "Unnamed: 0      0\n",
       "Unnamed: 0.1    0\n",
       "Scorecard       0\n",
       "Team 1          0\n",
       "Team 2          0\n",
       "Winner          0\n",
       "Margin          0\n",
       "Ground          0\n",
       "Match Date      0\n",
       "HostCountry     0\n",
       "dtype: int64"
      ]
     },
     "execution_count": 7,
     "metadata": {},
     "output_type": "execute_result"
    }
   ],
   "source": [
    "df.isnull().sum()"
   ]
  },
  {
   "cell_type": "code",
   "execution_count": 8,
   "id": "f3d6ba70",
   "metadata": {},
   "outputs": [
    {
     "data": {
      "text/plain": [
       "(3938, 10)"
      ]
     },
     "execution_count": 8,
     "metadata": {},
     "output_type": "execute_result"
    }
   ],
   "source": [
    "df.shape #to know number of rowws and columns in dataset"
   ]
  },
  {
   "cell_type": "code",
   "execution_count": 9,
   "id": "7cd72efb",
   "metadata": {},
   "outputs": [],
   "source": [
    "#splitting Match Date to date and year\n",
    "df[['Day','Year']] = df['Match Date'].str.split(', ',expand=True)\n",
    "df['Year'] = df['Year'].astype(int)"
   ]
  },
  {
   "cell_type": "code",
   "execution_count": 10,
   "id": "8e205e41",
   "metadata": {},
   "outputs": [
    {
     "data": {
      "text/plain": [
       "Index(['Unnamed: 0', 'Unnamed: 0.1', 'Scorecard', 'Team 1', 'Team 2', 'Winner',\n",
       "       'Margin', 'Ground', 'Match Date', 'HostCountry', 'Day', 'Year'],\n",
       "      dtype='object')"
      ]
     },
     "execution_count": 10,
     "metadata": {},
     "output_type": "execute_result"
    }
   ],
   "source": [
    "df.columns"
   ]
  },
  {
   "cell_type": "code",
   "execution_count": 11,
   "id": "f98df636",
   "metadata": {},
   "outputs": [],
   "source": [
    "df = df.drop('Match Date', axis=\"columns\")"
   ]
  },
  {
   "cell_type": "code",
   "execution_count": 12,
   "id": "076f0f3a",
   "metadata": {},
   "outputs": [
    {
     "data": {
      "text/plain": [
       "Index(['Unnamed: 0', 'Unnamed: 0.1', 'Scorecard', 'Team 1', 'Team 2', 'Winner',\n",
       "       'Margin', 'Ground', 'HostCountry', 'Day', 'Year'],\n",
       "      dtype='object')"
      ]
     },
     "execution_count": 12,
     "metadata": {},
     "output_type": "execute_result"
    }
   ],
   "source": [
    "df.columns"
   ]
  },
  {
   "cell_type": "code",
   "execution_count": 13,
   "id": "3e7762f5",
   "metadata": {},
   "outputs": [
    {
     "name": "stdout",
     "output_type": "stream",
     "text": [
      "Enter a countryAustralia\n",
      "Australia\n"
     ]
    }
   ],
   "source": [
    "#Taking input from the user:\n",
    "country = input(\"Enter a country\")\n",
    "print(country)"
   ]
  },
  {
   "cell_type": "code",
   "execution_count": 14,
   "id": "abf4161e",
   "metadata": {},
   "outputs": [],
   "source": [
    "#importing libraries\n",
    "import seaborn as sns\n",
    "import numpy as np\n",
    "import matplotlib.pyplot as plt\n",
    "%matplotlib inline"
   ]
  },
  {
   "cell_type": "code",
   "execution_count": 15,
   "id": "699019b0",
   "metadata": {},
   "outputs": [],
   "source": [
    "a=df.loc[(df['Team 1']==country)|(df['Team 2']==country)]"
   ]
  },
  {
   "cell_type": "code",
   "execution_count": 16,
   "id": "bf2991e5",
   "metadata": {},
   "outputs": [
    {
     "data": {
      "text/plain": [
       "<AxesSubplot:xlabel='Year', ylabel='Count'>"
      ]
     },
     "execution_count": 16,
     "metadata": {},
     "output_type": "execute_result"
    },
    {
     "data": {
      "image/png": "[encoded data removed]",
      "text/plain": [
       "<Figure size 720x432 with 1 Axes>"
      ]
     },
     "metadata": {
      "needs_background": "light"
     },
     "output_type": "display_data"
    }
   ],
   "source": [
    "#1. Display the histogram that represents year-wise number of matches played by an input country given. (Australia)\n",
    "plt.figure(figsize=(10,6))\n",
    "sns.histplot(a['Year'], color=\"blue\")"
   ]
  },
  {
   "cell_type": "code",
   "execution_count": 17,
   "id": "c2572054",
   "metadata": {},
   "outputs": [
    {
     "name": "stdout",
     "output_type": "stream",
     "text": [
      "      Unnamed: 0  Unnamed: 0.1   Scorecard       Team 1        Team 2  \\\n",
      "3945        3945          3945  ODI # 3946  New Zealand      Pakistan   \n",
      "3946        3946          3946  ODI # 3947  New Zealand      Pakistan   \n",
      "3947        3947          3947  ODI # 3948       U.A.E.       Ireland   \n",
      "3948        3948          3948  ODI # 3949  New Zealand      Pakistan   \n",
      "3949        3949          3949  ODI # 3950       U.A.E.       Ireland   \n",
      "...          ...           ...         ...          ...           ...   \n",
      "4067        4067          4067  ODI # 4068  New Zealand      Pakistan   \n",
      "4068        4068          4068  ODI # 4069    Australia  South Africa   \n",
      "4070        4070          4070  ODI # 4071   Bangladesh   West Indies   \n",
      "4071        4071          4071  ODI # 4072   Bangladesh   West Indies   \n",
      "4072        4072          4072  ODI # 4073   Bangladesh   West Indies   \n",
      "\n",
      "            Winner     Margin      Ground           HostCountry     Day  Year  \n",
      "3945   New Zealand    61 runs  Wellington           New Zealand   Jan 6  2018  \n",
      "3946   New Zealand  8 wickets      Nelson           New Zealand   Jan 9  2018  \n",
      "3947       Ireland  4 wickets  ICCA Dubai  United Arab Emirates  Jan 11  2018  \n",
      "3948   New Zealand   183 runs     Dunedin           New Zealand  Jan 13  2018  \n",
      "3949       Ireland    67 runs  ICCA Dubai  United Arab Emirates  Jan 13  2018  \n",
      "...            ...        ...         ...                   ...     ...   ...  \n",
      "4067      Pakistan  6 wickets   Abu Dhabi  United Arab Emirates   Nov 9  2018  \n",
      "4068  South Africa    40 runs      Hobart             Australia  Nov 11  2018  \n",
      "4070    Bangladesh  5 wickets       Dhaka            Bangladesh   Dec 9  2018  \n",
      "4071   West Indies  4 wickets       Dhaka            Bangladesh  Dec 11  2018  \n",
      "4072    Bangladesh  8 wickets      Sylhet            Bangladesh  Dec 14  2018  \n",
      "\n",
      "[123 rows x 11 columns]\n"
     ]
    }
   ],
   "source": [
    "#2. Filter out the dataset based on the year given. (Ex: 2018) \n",
    "df = df[df['Year']==2018]\n",
    "print(df)"
   ]
  },
  {
   "cell_type": "code",
   "execution_count": 18,
   "id": "4ac24d91",
   "metadata": {},
   "outputs": [
    {
     "name": "stdout",
     "output_type": "stream",
     "text": [
      "[2018]\n"
     ]
    }
   ],
   "source": [
    "print(df.Year.unique()) #the data has been filtered for the year 2018"
   ]
  },
  {
   "cell_type": "code",
   "execution_count": 19,
   "id": "48229b58",
   "metadata": {},
   "outputs": [
    {
     "data": {
      "text/plain": [
       "Team 1    Zimbabwe\n",
       "Team 2    Zimbabwe\n",
       "dtype: object"
      ]
     },
     "execution_count": 19,
     "metadata": {},
     "output_type": "execute_result"
    }
   ],
   "source": [
    "# 3. Which country played most ODIs in 2018.\n",
    "df[['Team 1','Team 2']].max()"
   ]
  },
  {
   "cell_type": "code",
   "execution_count": 20,
   "id": "c5f6545a",
   "metadata": {},
   "outputs": [
    {
     "data": {
      "text/plain": [
       "England       17\n",
       "India         14\n",
       "Bangladesh    13\n",
       "Name: Winner, dtype: int64"
      ]
     },
     "execution_count": 20,
     "metadata": {},
     "output_type": "execute_result"
    }
   ],
   "source": [
    "# 4. Top three countries who won the most ODIs.\n",
    "top_three_countries = df['Winner'].value_counts().head(3)\n",
    "top_three_countries"
   ]
  },
  {
   "cell_type": "code",
   "execution_count": 21,
   "id": "b59490e9",
   "metadata": {},
   "outputs": [
    {
     "data": {
      "text/plain": [
       "<AxesSubplot:>"
      ]
     },
     "execution_count": 21,
     "metadata": {},
     "output_type": "execute_result"
    },
    {
     "data": {
      "image/png": "[encoded data removed]",
      "text/plain": [
       "<Figure size 1080x504 with 1 Axes>"
      ]
     },
     "metadata": {
      "needs_background": "light"
     },
     "output_type": "display_data"
    }
   ],
   "source": [
    "# 5. Based on the ground, map the ODIs\n",
    "grounds = df['Ground']\n",
    "grounds\n",
    "matches_per_ground = grounds.value_counts()\n",
    "matches_per_ground\n",
    "plt.figure(figsize = (15,7))\n",
    "grounds.hist(color=\"skyblue\")"
   ]
  },
  {
   "cell_type": "code",
   "execution_count": 22,
   "id": "d8387835",
   "metadata": {},
   "outputs": [
    {
     "name": "stdout",
     "output_type": "stream",
     "text": [
      "The country which played the most matches in their homeground is:\n",
      "Zimbabwe\n"
     ]
    }
   ],
   "source": [
    "# 6. Which country played most matches in their home ground. \n",
    "dict={}\n",
    "host_name = df['HostCountry']\n",
    "for i in host_name:\n",
    "    if i  not in dict.keys():\n",
    "        dict[i]=1\n",
    "    else:\n",
    "        dict[i] = dict[i] + 1\n",
    "print(\"The country which played the most matches in their homeground is:\")\n",
    "l = max(zip(dict.values(),dict.keys()))[1]\n",
    "print(l)"
   ]
  },
  {
   "cell_type": "code",
   "execution_count": 23,
   "id": "4dd29f54",
   "metadata": {},
   "outputs": [
    {
     "data": {
      "text/html": [
       "<div>\n",
       "<style scoped>\n",
       "    .dataframe tbody tr th:only-of-type {\n",
       "        vertical-align: middle;\n",
       "    }\n",
       "\n",
       "    .dataframe tbody tr th {\n",
       "        vertical-align: top;\n",
       "    }\n",
       "\n",
       "    .dataframe thead th {\n",
       "        text-align: right;\n",
       "    }\n",
       "</style>\n",
       "<table border=\"1\" class=\"dataframe\">\n",
       "  <thead>\n",
       "    <tr style=\"text-align: right;\">\n",
       "      <th></th>\n",
       "      <th>Unnamed: 0</th>\n",
       "      <th>Unnamed: 0.1</th>\n",
       "      <th>Scorecard</th>\n",
       "      <th>Team 1</th>\n",
       "      <th>Team 2</th>\n",
       "      <th>Winner</th>\n",
       "      <th>Margin</th>\n",
       "      <th>Ground</th>\n",
       "      <th>HostCountry</th>\n",
       "      <th>Day</th>\n",
       "      <th>Year</th>\n",
       "    </tr>\n",
       "  </thead>\n",
       "  <tbody>\n",
       "    <tr>\n",
       "      <th>3968</th>\n",
       "      <td>3968</td>\n",
       "      <td>3968</td>\n",
       "      <td>ODI # 3969</td>\n",
       "      <td>South Africa</td>\n",
       "      <td>India</td>\n",
       "      <td>India</td>\n",
       "      <td>6 wickets</td>\n",
       "      <td>Durban</td>\n",
       "      <td>RSA</td>\n",
       "      <td>Feb 1</td>\n",
       "      <td>2018</td>\n",
       "    </tr>\n",
       "    <tr>\n",
       "      <th>3969</th>\n",
       "      <td>3969</td>\n",
       "      <td>3969</td>\n",
       "      <td>ODI # 3970</td>\n",
       "      <td>South Africa</td>\n",
       "      <td>India</td>\n",
       "      <td>India</td>\n",
       "      <td>9 wickets</td>\n",
       "      <td>Centurion</td>\n",
       "      <td>RSA</td>\n",
       "      <td>Feb 4</td>\n",
       "      <td>2018</td>\n",
       "    </tr>\n",
       "    <tr>\n",
       "      <th>3970</th>\n",
       "      <td>3970</td>\n",
       "      <td>3970</td>\n",
       "      <td>ODI # 3971</td>\n",
       "      <td>South Africa</td>\n",
       "      <td>India</td>\n",
       "      <td>India</td>\n",
       "      <td>124 runs</td>\n",
       "      <td>Cape Town</td>\n",
       "      <td>RSA</td>\n",
       "      <td>Feb 7</td>\n",
       "      <td>2018</td>\n",
       "    </tr>\n",
       "    <tr>\n",
       "      <th>3975</th>\n",
       "      <td>3975</td>\n",
       "      <td>3975</td>\n",
       "      <td>ODI # 3976</td>\n",
       "      <td>South Africa</td>\n",
       "      <td>India</td>\n",
       "      <td>India</td>\n",
       "      <td>73 runs</td>\n",
       "      <td>Port Elizabeth</td>\n",
       "      <td>RSA</td>\n",
       "      <td>Feb 13</td>\n",
       "      <td>2018</td>\n",
       "    </tr>\n",
       "    <tr>\n",
       "      <th>3977</th>\n",
       "      <td>3977</td>\n",
       "      <td>3977</td>\n",
       "      <td>ODI # 3978</td>\n",
       "      <td>South Africa</td>\n",
       "      <td>India</td>\n",
       "      <td>India</td>\n",
       "      <td>8 wickets</td>\n",
       "      <td>Centurion</td>\n",
       "      <td>RSA</td>\n",
       "      <td>Feb 16</td>\n",
       "      <td>2018</td>\n",
       "    </tr>\n",
       "    <tr>\n",
       "      <th>4013</th>\n",
       "      <td>4013</td>\n",
       "      <td>4013</td>\n",
       "      <td>ODI # 4014</td>\n",
       "      <td>England</td>\n",
       "      <td>India</td>\n",
       "      <td>India</td>\n",
       "      <td>8 wickets</td>\n",
       "      <td>Nottingham</td>\n",
       "      <td>United Kingdom</td>\n",
       "      <td>Jul 12</td>\n",
       "      <td>2018</td>\n",
       "    </tr>\n",
       "    <tr>\n",
       "      <th>4038</th>\n",
       "      <td>4038</td>\n",
       "      <td>4038</td>\n",
       "      <td>ODI # 4039</td>\n",
       "      <td>Hong Kong</td>\n",
       "      <td>India</td>\n",
       "      <td>India</td>\n",
       "      <td>26 runs</td>\n",
       "      <td>Dubai (DSC)</td>\n",
       "      <td>United Arab Emirates</td>\n",
       "      <td>Sep 18</td>\n",
       "      <td>2018</td>\n",
       "    </tr>\n",
       "    <tr>\n",
       "      <th>4039</th>\n",
       "      <td>4039</td>\n",
       "      <td>4039</td>\n",
       "      <td>ODI # 4040</td>\n",
       "      <td>India</td>\n",
       "      <td>Pakistan</td>\n",
       "      <td>India</td>\n",
       "      <td>8 wickets</td>\n",
       "      <td>Dubai (DSC)</td>\n",
       "      <td>United Arab Emirates</td>\n",
       "      <td>Sep 19</td>\n",
       "      <td>2018</td>\n",
       "    </tr>\n",
       "    <tr>\n",
       "      <th>4041</th>\n",
       "      <td>4041</td>\n",
       "      <td>4041</td>\n",
       "      <td>ODI # 4042</td>\n",
       "      <td>Bangladesh</td>\n",
       "      <td>India</td>\n",
       "      <td>India</td>\n",
       "      <td>7 wickets</td>\n",
       "      <td>Dubai (DSC)</td>\n",
       "      <td>United Arab Emirates</td>\n",
       "      <td>Sep 21</td>\n",
       "      <td>2018</td>\n",
       "    </tr>\n",
       "    <tr>\n",
       "      <th>4043</th>\n",
       "      <td>4043</td>\n",
       "      <td>4043</td>\n",
       "      <td>ODI # 4044</td>\n",
       "      <td>India</td>\n",
       "      <td>Pakistan</td>\n",
       "      <td>India</td>\n",
       "      <td>9 wickets</td>\n",
       "      <td>Dubai (DSC)</td>\n",
       "      <td>United Arab Emirates</td>\n",
       "      <td>Sep 23</td>\n",
       "      <td>2018</td>\n",
       "    </tr>\n",
       "    <tr>\n",
       "      <th>4047</th>\n",
       "      <td>4047</td>\n",
       "      <td>4047</td>\n",
       "      <td>ODI # 4048</td>\n",
       "      <td>Bangladesh</td>\n",
       "      <td>India</td>\n",
       "      <td>India</td>\n",
       "      <td>3 wickets</td>\n",
       "      <td>Dubai (DSC)</td>\n",
       "      <td>United Arab Emirates</td>\n",
       "      <td>Sep 28</td>\n",
       "      <td>2018</td>\n",
       "    </tr>\n",
       "    <tr>\n",
       "      <th>4055</th>\n",
       "      <td>4055</td>\n",
       "      <td>4055</td>\n",
       "      <td>ODI # 4056</td>\n",
       "      <td>India</td>\n",
       "      <td>West Indies</td>\n",
       "      <td>India</td>\n",
       "      <td>8 wickets</td>\n",
       "      <td>Guwahati</td>\n",
       "      <td>India</td>\n",
       "      <td>Oct 21</td>\n",
       "      <td>2018</td>\n",
       "    </tr>\n",
       "    <tr>\n",
       "      <th>4062</th>\n",
       "      <td>4062</td>\n",
       "      <td>4062</td>\n",
       "      <td>ODI # 4063</td>\n",
       "      <td>India</td>\n",
       "      <td>West Indies</td>\n",
       "      <td>India</td>\n",
       "      <td>224 runs</td>\n",
       "      <td>Mumbai (BS)</td>\n",
       "      <td>India</td>\n",
       "      <td>Oct 29</td>\n",
       "      <td>2018</td>\n",
       "    </tr>\n",
       "    <tr>\n",
       "      <th>4063</th>\n",
       "      <td>4063</td>\n",
       "      <td>4063</td>\n",
       "      <td>ODI # 4064</td>\n",
       "      <td>India</td>\n",
       "      <td>West Indies</td>\n",
       "      <td>India</td>\n",
       "      <td>9 wickets</td>\n",
       "      <td>Thiruvananthapuram</td>\n",
       "      <td>India</td>\n",
       "      <td>Nov 1</td>\n",
       "      <td>2018</td>\n",
       "    </tr>\n",
       "  </tbody>\n",
       "</table>\n",
       "</div>"
      ],
      "text/plain": [
       "      Unnamed: 0  Unnamed: 0.1   Scorecard        Team 1       Team 2 Winner  \\\n",
       "3968        3968          3968  ODI # 3969  South Africa        India  India   \n",
       "3969        3969          3969  ODI # 3970  South Africa        India  India   \n",
       "3970        3970          3970  ODI # 3971  South Africa        India  India   \n",
       "3975        3975          3975  ODI # 3976  South Africa        India  India   \n",
       "3977        3977          3977  ODI # 3978  South Africa        India  India   \n",
       "4013        4013          4013  ODI # 4014       England        India  India   \n",
       "4038        4038          4038  ODI # 4039     Hong Kong        India  India   \n",
       "4039        4039          4039  ODI # 4040         India     Pakistan  India   \n",
       "4041        4041          4041  ODI # 4042    Bangladesh        India  India   \n",
       "4043        4043          4043  ODI # 4044         India     Pakistan  India   \n",
       "4047        4047          4047  ODI # 4048    Bangladesh        India  India   \n",
       "4055        4055          4055  ODI # 4056         India  West Indies  India   \n",
       "4062        4062          4062  ODI # 4063         India  West Indies  India   \n",
       "4063        4063          4063  ODI # 4064         India  West Indies  India   \n",
       "\n",
       "         Margin              Ground           HostCountry     Day  Year  \n",
       "3968  6 wickets              Durban                   RSA   Feb 1  2018  \n",
       "3969  9 wickets           Centurion                   RSA   Feb 4  2018  \n",
       "3970   124 runs           Cape Town                   RSA   Feb 7  2018  \n",
       "3975    73 runs      Port Elizabeth                   RSA  Feb 13  2018  \n",
       "3977  8 wickets           Centurion                   RSA  Feb 16  2018  \n",
       "4013  8 wickets          Nottingham        United Kingdom  Jul 12  2018  \n",
       "4038    26 runs         Dubai (DSC)  United Arab Emirates  Sep 18  2018  \n",
       "4039  8 wickets         Dubai (DSC)  United Arab Emirates  Sep 19  2018  \n",
       "4041  7 wickets         Dubai (DSC)  United Arab Emirates  Sep 21  2018  \n",
       "4043  9 wickets         Dubai (DSC)  United Arab Emirates  Sep 23  2018  \n",
       "4047  3 wickets         Dubai (DSC)  United Arab Emirates  Sep 28  2018  \n",
       "4055  8 wickets            Guwahati                 India  Oct 21  2018  \n",
       "4062   224 runs         Mumbai (BS)                 India  Oct 29  2018  \n",
       "4063  9 wickets  Thiruvananthapuram                 India   Nov 1  2018  "
      ]
     },
     "metadata": {},
     "output_type": "display_data"
    },
    {
     "name": "stdout",
     "output_type": "stream",
     "text": [
      "\n",
      "\\ Number of matches won by India in 2018  are: \n",
      "14\n"
     ]
    }
   ],
   "source": [
    "#7. How was the performance of India\n",
    "\n",
    "dff = df.loc[df[\"Winner\"] == \"India\"]\n",
    "display(dff)\n",
    "index = dff.index\n",
    "print(\"\\n\\ Number of matches won by India in 2018  are: \")\n",
    "print(len(index))"
   ]
  },
  {
   "cell_type": "code",
   "execution_count": 24,
   "id": "05d6542a",
   "metadata": {},
   "outputs": [
    {
     "data": {
      "text/plain": [
       "England        8\n",
       "Bangladesh     8\n",
       "West Indies    5\n",
       "Name: Winner, dtype: int64"
      ]
     },
     "execution_count": 24,
     "metadata": {},
     "output_type": "execute_result"
    }
   ],
   "source": [
    "#8. What are the top three countries who won by runs?\n",
    "\n",
    "res = df[\"Margin\"].str.split(\" \", n = 1, expand = True)\n",
    "df[\"Won By\"] = res[1]\n",
    "df[df['Won By']==\"runs\"]['Winner'].value_counts().head(3)"
   ]
  },
  {
   "cell_type": "code",
   "execution_count": 25,
   "id": "a5aea65a",
   "metadata": {},
   "outputs": [
    {
     "data": {
      "text/plain": [
       "Mar    25\n",
       "Jan    23\n",
       "Sep    13\n",
       "Name: Month, dtype: int64"
      ]
     },
     "execution_count": 25,
     "metadata": {},
     "output_type": "execute_result"
    }
   ],
   "source": [
    "#9. Month in which most ODIs were played\n",
    "\n",
    "# new data frame with split value columns\n",
    "new = df[\"Day\"].str.split(\" \", n = 1, expand = True)\n",
    "  \n",
    "# making separate month column from new data frame\n",
    "df[\"Month\"]= new[0]\n",
    "  \n",
    "# making date column from new data frame\n",
    "df[\"Date\"]= new[1]\n",
    "\n",
    "top_three_months = df['Month'].value_counts().head(3)\n",
    "top_three_months"
   ]
  },
  {
   "cell_type": "code",
   "execution_count": 26,
   "id": "f0715592",
   "metadata": {
    "scrolled": true
   },
   "outputs": [
    {
     "data": {
      "text/plain": [
       "<AxesSubplot:xlabel='Months', ylabel='No of Matches'>"
      ]
     },
     "execution_count": 26,
     "metadata": {},
     "output_type": "execute_result"
    },
    {
     "data": {
      "image/png": "[encoded data removed]",
      "text/plain": [
       "<Figure size 1080x504 with 1 Axes>"
      ]
     },
     "metadata": {
      "needs_background": "light"
     },
     "output_type": "display_data"
    }
   ],
   "source": [
    "#10. Draw histogram that represents the number of matches played in each month of 2018.\n",
    "months = df['Month']\n",
    "months\n",
    "matches_per_month = months.value_counts()\n",
    "matches_per_month\n",
    "plt.figure(figsize = (15,7))\n",
    "plt. xlabel('Months', fontsize=16)\n",
    "plt. ylabel('No of Matches', fontsize=16)\n",
    "months.hist(color=\"purple\")"
   ]
  },
  {
   "cell_type": "code",
   "execution_count": 27,
   "id": "887d5604",
   "metadata": {},
   "outputs": [
    {
     "name": "stdout",
     "output_type": "stream",
     "text": [
      "Second Innings\n"
     ]
    }
   ],
   "source": [
    "#11. Did India win mostly by playing first or second innings?\n",
    "innings1 = df[(df['Team 1']=='India') & (df['Winner']=='India')].value_counts()\n",
    "i1 = len(innings1)\n",
    "innings2 = df[(df['Team 2']=='India') & (df['Winner']=='India')].value_counts()\n",
    "i2 = len(innings2)\n",
    "if i1 < i2:\n",
    "    print('Second Innings')\n",
    "else:\n",
    "    print('First Innings')"
   ]
  },
  {
   "cell_type": "code",
   "execution_count": 46,
   "id": "49f89649",
   "metadata": {},
   "outputs": [
    {
     "name": "stdout",
     "output_type": "stream",
     "text": [
      "Zimbabwe    20.0\n",
      "dtype: float64\n"
     ]
    }
   ],
   "source": [
    "#12. Team which had lost most of the matches\n",
    "T1 = df[\"Team 1\"].value_counts()\n",
    "T2 = df[\"Team 2\"].value_counts()\n",
    "TT = T1 + T2\n",
    "T4 = df[\"Winner\"].value_counts()\n",
    "T5 = TT - T4\n",
    "T5 = T5.sort_values(ascending=False)\n",
    "print(T5.iloc[[0]])"
   ]
  },
  {
   "cell_type": "code",
   "execution_count": 36,
   "id": "277cafaf",
   "metadata": {},
   "outputs": [
    {
     "name": "stdout",
     "output_type": "stream",
     "text": [
      "       By runs\n",
      "3945   61 runs\n",
      "3948  183 runs\n",
      "3949   67 runs\n",
      "3954   12 runs\n",
      "3955   24 runs\n",
      "...        ...\n",
      "4061   43 runs\n",
      "4062  224 runs\n",
      "4065   47 runs\n",
      "4066    7 runs\n",
      "4068   40 runs\n",
      "\n",
      "[63 rows x 1 columns]\n",
      "      By Wickets\n",
      "3946   8 wickets\n",
      "3947   4 wickets\n",
      "3950   5 wickets\n",
      "3951   8 wickets\n",
      "3952   5 wickets\n",
      "3953   6 wickets\n",
      "3957   4 wickets\n",
      "3961   5 wickets\n",
      "3962   4 wickets\n",
      "3964  10 wickets\n",
      "3965   3 wickets\n",
      "3968   6 wickets\n",
      "3969   9 wickets\n",
      "3972   5 wickets\n",
      "3974   6 wickets\n",
      "3976  10 wickets\n",
      "3977   8 wickets\n",
      "3979   3 wickets\n",
      "3980   6 wickets\n",
      "3982   7 wickets\n",
      "3984   4 wickets\n",
      "3985   4 wickets\n",
      "3988   5 wickets\n",
      "3990   6 wickets\n",
      "3991   7 wickets\n",
      "3996   3 wickets\n",
      "4001   4 wickets\n",
      "4002   5 wickets\n",
      "4005   5 wickets\n",
      "4006   7 wickets\n",
      "4008   3 wickets\n",
      "4011   6 wickets\n",
      "4013   8 wickets\n",
      "4016   9 wickets\n",
      "4017   8 wickets\n",
      "4018   9 wickets\n",
      "4024   5 wickets\n",
      "4026   4 wickets\n",
      "4032   3 wickets\n",
      "4034   8 wickets\n",
      "4036   8 wickets\n",
      "4039   8 wickets\n",
      "4041   7 wickets\n",
      "4042   3 wickets\n",
      "4043   9 wickets\n",
      "4047   3 wickets\n",
      "4048   5 wickets\n",
      "4050   4 wickets\n",
      "4053   7 wickets\n",
      "4055   8 wickets\n",
      "4059   7 wickets\n",
      "4060   7 wickets\n",
      "4063   9 wickets\n",
      "4064   6 wickets\n",
      "4067   6 wickets\n",
      "4070   5 wickets\n",
      "4071   4 wickets\n",
      "4072   8 wickets\n",
      "      Unnamed: 0  Unnamed: 0.1   Scorecard       Team 1        Team 2  \\\n",
      "3945        3945          3945  ODI # 3946  New Zealand      Pakistan   \n",
      "3946        3946          3946  ODI # 3947  New Zealand      Pakistan   \n",
      "3947        3947          3947  ODI # 3948       U.A.E.       Ireland   \n",
      "3948        3948          3948  ODI # 3949  New Zealand      Pakistan   \n",
      "3949        3949          3949  ODI # 3950       U.A.E.       Ireland   \n",
      "...          ...           ...         ...          ...           ...   \n",
      "4067        4067          4067  ODI # 4068  New Zealand      Pakistan   \n",
      "4068        4068          4068  ODI # 4069    Australia  South Africa   \n",
      "4070        4070          4070  ODI # 4071   Bangladesh   West Indies   \n",
      "4071        4071          4071  ODI # 4072   Bangladesh   West Indies   \n",
      "4072        4072          4072  ODI # 4073   Bangladesh   West Indies   \n",
      "\n",
      "            Winner     Margin      Ground           HostCountry     Day  Year  \\\n",
      "3945   New Zealand    61 runs  Wellington           New Zealand   Jan 6  2018   \n",
      "3946   New Zealand  8 wickets      Nelson           New Zealand   Jan 9  2018   \n",
      "3947       Ireland  4 wickets  ICCA Dubai  United Arab Emirates  Jan 11  2018   \n",
      "3948   New Zealand   183 runs     Dunedin           New Zealand  Jan 13  2018   \n",
      "3949       Ireland    67 runs  ICCA Dubai  United Arab Emirates  Jan 13  2018   \n",
      "...            ...        ...         ...                   ...     ...   ...   \n",
      "4067      Pakistan  6 wickets   Abu Dhabi  United Arab Emirates   Nov 9  2018   \n",
      "4068  South Africa    40 runs      Hobart             Australia  Nov 11  2018   \n",
      "4070    Bangladesh  5 wickets       Dhaka            Bangladesh   Dec 9  2018   \n",
      "4071   West Indies  4 wickets       Dhaka            Bangladesh  Dec 11  2018   \n",
      "4072    Bangladesh  8 wickets      Sylhet            Bangladesh  Dec 14  2018   \n",
      "\n",
      "       Won By Month Date  \n",
      "3945     runs   Jan    6  \n",
      "3946  wickets   Jan    9  \n",
      "3947  wickets   Jan   11  \n",
      "3948     runs   Jan   13  \n",
      "3949     runs   Jan   13  \n",
      "...       ...   ...  ...  \n",
      "4067  wickets   Nov    9  \n",
      "4068     runs   Nov   11  \n",
      "4070  wickets   Dec    9  \n",
      "4071  wickets   Dec   11  \n",
      "4072  wickets   Dec   14  \n",
      "\n",
      "[123 rows x 14 columns]\n"
     ]
    }
   ],
   "source": [
    "#13. Divide the column ‘Margin’ into two different columns. One is for ‘By Runs’, and the other is for ‘By Wickets’\n",
    "a=df.filter(['Margin'])\n",
    "run= a[a['Margin'].astype(str).str.contains('runs')]\n",
    "run.columns=['By runs']\n",
    "wicket=a[a['Margin'].astype(str).str.contains('wickets')]\n",
    "wicket.columns=['By Wickets']\n",
    "print(run)\n",
    "print(wicket)\n",
    "print(df)"
   ]
  },
  {
   "cell_type": "code",
   "execution_count": 37,
   "id": "365a4d1b",
   "metadata": {},
   "outputs": [
    {
     "data": {
      "text/html": [
       "<div>\n",
       "<style scoped>\n",
       "    .dataframe tbody tr th:only-of-type {\n",
       "        vertical-align: middle;\n",
       "    }\n",
       "\n",
       "    .dataframe tbody tr th {\n",
       "        vertical-align: top;\n",
       "    }\n",
       "\n",
       "    .dataframe thead th {\n",
       "        text-align: right;\n",
       "    }\n",
       "</style>\n",
       "<table border=\"1\" class=\"dataframe\">\n",
       "  <thead>\n",
       "    <tr style=\"text-align: right;\">\n",
       "      <th></th>\n",
       "      <th>Unnamed: 0</th>\n",
       "      <th>Unnamed: 0.1</th>\n",
       "      <th>Scorecard</th>\n",
       "      <th>Team 1</th>\n",
       "      <th>Team 2</th>\n",
       "      <th>Winner</th>\n",
       "      <th>Margin</th>\n",
       "      <th>Ground</th>\n",
       "      <th>HostCountry</th>\n",
       "      <th>Day</th>\n",
       "      <th>Year</th>\n",
       "      <th>Won By</th>\n",
       "      <th>Month</th>\n",
       "      <th>Date</th>\n",
       "    </tr>\n",
       "  </thead>\n",
       "  <tbody>\n",
       "  </tbody>\n",
       "</table>\n",
       "</div>"
      ],
      "text/plain": [
       "Empty DataFrame\n",
       "Columns: [Unnamed: 0, Unnamed: 0.1, Scorecard, Team 1, Team 2, Winner, Margin, Ground, HostCountry, Day, Year, Won By, Month, Date]\n",
       "Index: []"
      ]
     },
     "execution_count": 37,
     "metadata": {},
     "output_type": "execute_result"
    }
   ],
   "source": [
    "#14. How many matches are ended up with “no result” in each month.\n",
    "df[df['Winner'].str.contains(\"no result\")] \n"
   ]
  }
 ],
 "metadata": {
  "kernelspec": {
   "display_name": "Python 3",
   "language": "python",
   "name": "python3"
  },
  "language_info": {
   "codemirror_mode": {
    "name": "ipython",
    "version": 3
   },
   "file_extension": ".py",
   "mimetype": "text/x-python",
   "name": "python",
   "nbconvert_exporter": "python",
   "pygments_lexer": "ipython3",
   "version": "3.8.8"
  }
 },
 "nbformat": 4,
 "nbformat_minor": 5
}
